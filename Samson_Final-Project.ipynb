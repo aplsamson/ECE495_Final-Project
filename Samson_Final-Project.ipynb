{
 "cells": [
  {
   "cell_type": "code",
   "execution_count": 1,
   "metadata": {},
   "outputs": [],
   "source": [
    "import matplotlib.pyplot as plt\n",
    "import numpy as np\n",
    "from scipy.stats import norm\n",
    "\n",
    "import nengo\n",
    "from nengo.utils.matplotlib import rasterplot\n",
    "from nengo.dists import Uniform\n",
    "from nengo.processes import Piecewise\n",
    "\n",
    "import math"
   ]
  },
  {
   "cell_type": "code",
   "execution_count": 1,
   "metadata": {},
   "outputs": [
    {
     "ename": "IndentationError",
     "evalue": "expected an indented block after 'if' statement on line 95 (1054588099.py, line 101)",
     "output_type": "error",
     "traceback": [
      "\u001b[1;36m  Cell \u001b[1;32mIn[1], line 101\u001b[1;36m\u001b[0m\n\u001b[1;33m    nengo.Connection(absValCalc, DTWsum)\u001b[0m\n\u001b[1;37m    ^\u001b[0m\n\u001b[1;31mIndentationError\u001b[0m\u001b[1;31m:\u001b[0m expected an indented block after 'if' statement on line 95\n"
     ]
    }
   ],
   "source": [
    "### CHECKPOINT 1 PROGRESS\n",
    "\n",
    "# model = nengo.Network(label=\"DTW\")\n",
    "\n",
    "\n",
    "# ### TEST CURVES\n",
    "# curveA = [\n",
    "#     [0.02, 0.1],\n",
    "#     [0.04, 0.3],\n",
    "#     [0.06, 0.4],\n",
    "#     [0.08, 0.9],\n",
    "#     [0.1, 0.8],\n",
    "#     [0.12, 0.2],\n",
    "#     [0.14, 0.1],\n",
    "#     [0.16, 0.5],\n",
    "#     [0.18, 0.7],\n",
    "#     [0.2, 0.3],\n",
    "# ]\n",
    "# curveB = [\n",
    "#     [0.02, 0.1],\n",
    "#     [0.04, 0.6],\n",
    "#     [0.06, 0.2],\n",
    "#     [0.08, 0.3],\n",
    "#     [0.1, 0],\n",
    "#     [0.12, 0.9],\n",
    "#     [0.14, 0.4],\n",
    "#     [0.16, 0.3],\n",
    "#     [0.18, 0.6],\n",
    "#     [0.2, 0.3],\n",
    "# ]\n",
    "\n",
    "# costMatrix = []\n",
    "\n",
    "# numPoints = len(curveA)\n",
    "\n",
    "# with model:\n",
    "\n",
    "#     def absVal(x):\n",
    "#         return abs(x)\n",
    "\n",
    "#     def neg(x):\n",
    "#         return x * -1\n",
    "\n",
    "#     def lessThan(x):\n",
    "#         if x[0]<x[1]:\n",
    "#             return x[0]\n",
    "#         else:\n",
    "#             return x[1]\n",
    "\n",
    "#     def greaterThan(x):\n",
    "#         if x[0]>x[1]:\n",
    "#             return x[0]\n",
    "#         else:\n",
    "#             return x[1]\n",
    "\n",
    "#     for r in range(numPoints):\n",
    "\n",
    "#         costMatrix.append([])\n",
    "\n",
    "#         for c in range(numPoints):\n",
    "\n",
    "#             below = 10\n",
    "#             belowLeft = 10\n",
    "#             left = 10\n",
    "\n",
    "#             input_neuronA = nengo.Ensemble(100, dimensions=1)\n",
    "#             input_neuronB = nengo.Ensemble(100, dimensions=1)\n",
    "\n",
    "#             absValCalc = nengo.Ensemble(100, dimensions=1)\n",
    "#             negative = nengo.Ensemble(100, dimensions=1)\n",
    "#             difference = nengo.Ensemble(100, dimensions=1)\n",
    "#             addNum = nengo.Ensemble(100, dimensions = 1)\n",
    "#             DTWsum = nengo.Ensemble(100, dimensions=1)\n",
    "\n",
    "#             input_nodeA = nengo.Node(output=curveA[r][1])\n",
    "#             input_nodeB = nengo.Node(output=curveB[c][1])\n",
    "\n",
    "#             nengo.Connection(\n",
    "#                 input_nodeA, input_neuronA\n",
    "#             )  ## Connect the node to the neuron ensemble\n",
    "#             nengo.Connection(input_nodeB, input_neuronB)\n",
    "\n",
    "#             nengo.Connection(\n",
    "#                 input_neuronB, negative, function=neg\n",
    "#             )  ## Flip the number negative to subtract\n",
    "\n",
    "#             nengo.Connection(negative, difference)  ## Subtraction\n",
    "#             nengo.Connection(input_neuronA, difference)  ## Subtraction\n",
    "\n",
    "#             nengo.Connection(difference, absValCalc, function=absVal)\n",
    "\n",
    "#             ### START CALCULATING MINIMUMS, TODO: IMPLEMENT NEURON DYNAMICS\n",
    "\n",
    "#             if r > 0: ## check below\n",
    "#                 below = costMatrix[r - 1][c]\n",
    "#                 isBelow = 1\n",
    "\n",
    "#             if c > 0: ## check left\n",
    "\n",
    "#                 left = costMatrix[r][c - 1]\n",
    "#                 isLeft = 1\n",
    "\n",
    "#             if r > 0 & c > 0: ## check left and below\n",
    "\n",
    "#                 belowLeft = costMatrix[r - 1][c - 1]\n",
    "#                 isBelowLeft = 1\n",
    "\n",
    "\n",
    "#             if (isBelow | isLeft | isBelowLeft):\n",
    "\n",
    "\n",
    "#                 ### ONE AT A TIME\n",
    "#                 if (isBelow == 1 & isLeft == 0 and isBelowLeft == 0):\n",
    "\n",
    "#                     nengo.Connection(isBelow, addNum)\n",
    "\n",
    "#                 elif (isBelow == 0 & isLeft == 1 and isBelowLeft == 0):\n",
    "\n",
    "#                     nengo.Connection(isLeft, addNum)\n",
    "\n",
    "#                 elif (isBelow == 0 & isLeft == 0 and isBelowLeft == 1):\n",
    "\n",
    "#                     nengo.Connection(isBelowLeft, addNum)\n",
    "\n",
    "\n",
    "#                 ### COMBOS OF TWO\n",
    "\n",
    "\n",
    "#                 ### ALL THREE\n",
    "\n",
    "\n",
    "#             #####\n",
    "\n",
    "#             nengo.Connection(absValCalc, DTWsum)\n",
    "#             nengo.Connection(addNum, DTWsum)\n",
    "\n",
    "#             costMatrix[r].append(DTWsum)\n",
    "\n",
    "#     ### neuron_probe = nengo.Probe(difference, synapse = 0.1) ## Probe the neuron ensemble"
   ]
  },
  {
   "cell_type": "code",
   "execution_count": 48,
   "metadata": {},
   "outputs": [
    {
     "data": {
      "application/vdom.v1+json": {
       "attributes": {},
       "tagName": "div"
      },
      "text/html": [
       "\n",
       "                <script>\n",
       "                    if (Jupyter.version.split(\".\")[0] < 5) {\n",
       "                        var pb = document.getElementById(\"91560275-8cc5-473c-a0de-8aa815754e77\");\n",
       "                        var text = document.createTextNode(\n",
       "                            \"HMTL progress bar requires Jupyter Notebook >= \" +\n",
       "                            \"5.0 or Jupyter Lab. Alternatively, you can use \" +\n",
       "                            \"TerminalProgressBar().\");\n",
       "                        pb.parentNode.insertBefore(text, pb);\n",
       "                    }\n",
       "                </script>\n",
       "                <div id=\"91560275-8cc5-473c-a0de-8aa815754e77\" style=\"\n",
       "                    width: 100%;\n",
       "                    border: 1px solid #cfcfcf;\n",
       "                    border-radius: 4px;\n",
       "                    text-align: center;\n",
       "                    position: relative;\">\n",
       "                  <div class=\"pb-text\" style=\"\n",
       "                      position: absolute;\n",
       "                      width: 100%;\">\n",
       "                    0%\n",
       "                  </div>\n",
       "                  <div class=\"pb-fill\" style=\"\n",
       "                      background-color: #bdd2e6;\n",
       "                      width: 0%;\">\n",
       "                    <style type=\"text/css\" scoped=\"scoped\">\n",
       "                        @keyframes pb-fill-anim {\n",
       "                            0% { background-position: 0 0; }\n",
       "                            100% { background-position: 100px 0; }\n",
       "                        }\n",
       "                    </style>\n",
       "                    &nbsp;\n",
       "                  </div>\n",
       "                </div>"
      ],
      "text/plain": [
       "HtmlProgressBar cannot be displayed. Please use the TerminalProgressBar. It can be enabled with `nengo.rc['progress']['progress_bar'] = 'nengo.utils.progress.TerminalProgressBar'`."
      ]
     },
     "metadata": {},
     "output_type": "display_data"
    },
    {
     "data": {
      "application/vdom.v1+json": {
       "attributes": {
        "id": "74b0a6d7-4a6f-4c6d-be88-953adaf49491",
        "style": {
         "border": "1px solid #cfcfcf",
         "borderRadius": "4px",
         "boxSizing": "border-box",
         "position": "relative",
         "textAlign": "center",
         "width": "100%"
        }
       },
       "children": [
        {
         "attributes": {
          "class": "pb-text",
          "style": {
           "position": "absolute",
           "width": "100%"
          }
         },
         "children": [
          "Build finished in 0:00:01."
         ],
         "tagName": "div"
        },
        {
         "attributes": {
          "class": "pb-fill",
          "style": {
           "animation": "none",
           "backgroundColor": "#bdd2e6",
           "backgroundImage": "none",
           "backgroundSize": "100px 100%",
           "width": "100%"
          }
         },
         "children": [
          {
           "attributes": {
            "scoped": "scoped",
            "type": "text/css"
           },
           "children": [
            "\n                        @keyframes pb-fill-anim {\n                            0% { background-position: 0 0; }\n                            100% { background-position: 100px 0; }\n                        }}"
           ],
           "tagName": "style"
          },
          " "
         ],
         "tagName": "div"
        }
       ],
       "tagName": "div"
      },
      "text/html": [
       "<script>\n",
       "              (function () {\n",
       "                  var root = document.getElementById('91560275-8cc5-473c-a0de-8aa815754e77');\n",
       "                  var text = root.getElementsByClassName('pb-text')[0];\n",
       "                  var fill = root.getElementsByClassName('pb-fill')[0];\n",
       "\n",
       "                  text.innerHTML = 'Build finished in 0:00:01.';\n",
       "                  \n",
       "            fill.style.width = '100%';\n",
       "            fill.style.animation = 'pb-fill-anim 2s linear infinite';\n",
       "            fill.style.backgroundSize = '100px 100%';\n",
       "            fill.style.backgroundImage = 'repeating-linear-gradient(' +\n",
       "                '90deg, #bdd2e6, #edf2f8 40%, #bdd2e6 80%, #bdd2e6)';\n",
       "        \n",
       "                  \n",
       "                fill.style.animation = 'none';\n",
       "                fill.style.backgroundImage = 'none';\n",
       "            \n",
       "              })();\n",
       "        </script>"
      ]
     },
     "metadata": {},
     "output_type": "display_data"
    },
    {
     "data": {
      "application/vdom.v1+json": {
       "attributes": {},
       "tagName": "div"
      },
      "text/html": [
       "\n",
       "                <script>\n",
       "                    if (Jupyter.version.split(\".\")[0] < 5) {\n",
       "                        var pb = document.getElementById(\"a6445960-2a7e-4ebf-9cdb-197b59006e4c\");\n",
       "                        var text = document.createTextNode(\n",
       "                            \"HMTL progress bar requires Jupyter Notebook >= \" +\n",
       "                            \"5.0 or Jupyter Lab. Alternatively, you can use \" +\n",
       "                            \"TerminalProgressBar().\");\n",
       "                        pb.parentNode.insertBefore(text, pb);\n",
       "                    }\n",
       "                </script>\n",
       "                <div id=\"a6445960-2a7e-4ebf-9cdb-197b59006e4c\" style=\"\n",
       "                    width: 100%;\n",
       "                    border: 1px solid #cfcfcf;\n",
       "                    border-radius: 4px;\n",
       "                    text-align: center;\n",
       "                    position: relative;\">\n",
       "                  <div class=\"pb-text\" style=\"\n",
       "                      position: absolute;\n",
       "                      width: 100%;\">\n",
       "                    0%\n",
       "                  </div>\n",
       "                  <div class=\"pb-fill\" style=\"\n",
       "                      background-color: #bdd2e6;\n",
       "                      width: 0%;\">\n",
       "                    <style type=\"text/css\" scoped=\"scoped\">\n",
       "                        @keyframes pb-fill-anim {\n",
       "                            0% { background-position: 0 0; }\n",
       "                            100% { background-position: 100px 0; }\n",
       "                        }\n",
       "                    </style>\n",
       "                    &nbsp;\n",
       "                  </div>\n",
       "                </div>"
      ],
      "text/plain": [
       "HtmlProgressBar cannot be displayed. Please use the TerminalProgressBar. It can be enabled with `nengo.rc['progress']['progress_bar'] = 'nengo.utils.progress.TerminalProgressBar'`."
      ]
     },
     "metadata": {},
     "output_type": "display_data"
    },
    {
     "data": {
      "application/vdom.v1+json": {
       "attributes": {
        "id": "e0435116-bcd4-4521-9922-4afe5edc5814",
        "style": {
         "border": "1px solid #cfcfcf",
         "borderRadius": "4px",
         "boxSizing": "border-box",
         "position": "relative",
         "textAlign": "center",
         "width": "100%"
        }
       },
       "children": [
        {
         "attributes": {
          "class": "pb-text",
          "style": {
           "position": "absolute",
           "width": "100%"
          }
         },
         "children": [
          "Simulation finished in 0:00:01."
         ],
         "tagName": "div"
        },
        {
         "attributes": {
          "class": "pb-fill",
          "style": {
           "animation": "none",
           "backgroundColor": "#bdd2e6",
           "backgroundImage": "none",
           "transition": "width 0.1s linear",
           "width": "100%"
          }
         },
         "children": [
          {
           "attributes": {
            "scoped": "scoped",
            "type": "text/css"
           },
           "children": [
            "\n                        @keyframes pb-fill-anim {\n                            0% { background-position: 0 0; }\n                            100% { background-position: 100px 0; }\n                        }}"
           ],
           "tagName": "style"
          },
          " "
         ],
         "tagName": "div"
        }
       ],
       "tagName": "div"
      },
      "text/html": [
       "<script>\n",
       "              (function () {\n",
       "                  var root = document.getElementById('a6445960-2a7e-4ebf-9cdb-197b59006e4c');\n",
       "                  var text = root.getElementsByClassName('pb-text')[0];\n",
       "                  var fill = root.getElementsByClassName('pb-fill')[0];\n",
       "\n",
       "                  text.innerHTML = 'Simulation finished in 0:00:01.';\n",
       "                  \n",
       "            if (100.0 > 0.) {\n",
       "                fill.style.transition = 'width 0.1s linear';\n",
       "            } else {\n",
       "                fill.style.transition = 'none';\n",
       "            }\n",
       "\n",
       "            fill.style.width = '100.0%';\n",
       "            fill.style.animation = 'none';\n",
       "            fill.style.backgroundImage = 'none'\n",
       "        \n",
       "                  \n",
       "                fill.style.animation = 'none';\n",
       "                fill.style.backgroundImage = 'none';\n",
       "            \n",
       "              })();\n",
       "        </script>"
      ]
     },
     "metadata": {},
     "output_type": "display_data"
    },
    {
     "data": {
      "image/png": "[encoded data removed]",
      "text/plain": [
       "<Figure size 1000x500 with 1 Axes>"
      ]
     },
     "metadata": {},
     "output_type": "display_data"
    }
   ],
   "source": [
    "### CODE TO KEEP\n",
    "### CHECKPOINT 2 PROGRESS\n",
    "\n",
    "# For each neuron ensemble, x[0] is the current sin value, x[1] is the current cos value, x[2-4] are the neighbors from the cost matrix\n",
    "\n",
    "costMatrix = []\n",
    "ensembleMatrix = []\n",
    "\n",
    "# change this value to adjust the sampling increment\n",
    "increment = 0.1\n",
    "\n",
    "lowBound = 0\n",
    "highBound = increment\n",
    "\n",
    "simTime = 10\n",
    "\n",
    "\n",
    "def calcCost(x):\n",
    "\n",
    "    cost = np.abs(x[0] - x[1]) + np.min(x[2], x[3], x[4])\n",
    "\n",
    "\n",
    "with nengo.Network() as model:\n",
    "\n",
    "    input1 = nengo.Node(np.sin)\n",
    "    input2 = nengo.Node(np.cos)\n",
    "\n",
    "    # initialize matrices\n",
    "\n",
    "    for r in range(10):\n",
    "\n",
    "        costMatrix.append([])\n",
    "        ensembleMatrix.append([])\n",
    "\n",
    "        for c in range(10):\n",
    "\n",
    "            costEns = nengo.Ensemble(100, dimensions=1, radius=2)\n",
    "            costMatrix[r][c].append(costEns)\n",
    "\n",
    "            ensemble = nengo.Ensemble(100, dimensions=5)\n",
    "            ensembleMatrix[r][c].append(ensemble)\n",
    "\n",
    "    # make the connections between the matrices\n",
    "    ### TODO: BUILD A LOOP AROUND THIS CODE\n",
    "\n",
    "    inhib = nengo.Node(Piecewise({0: 1, lowBound: 0, highBound: 1}))\n",
    "\n",
    "    if c < simTime / increment:\n",
    "\n",
    "        ## TODO: create an inhibition function to delay the propogation of the sin / cos curves\n",
    "\n",
    "        nengo.Connection(\n",
    "            ensembleMatrix[r][c - 1],\n",
    "        )\n",
    "\n",
    "    nengo.Connection((costMatrix[r - 1][c]), (ensembleMatrix[r][c])[2])\n",
    "    nengo.Connection((costMatrix[r][c - 1]), (ensembleMatrix[r][c])[3])\n",
    "    nengo.Connection((costMatrix[r - 1][c - 1]), (ensembleMatrix[r][c])[4])\n",
    "\n",
    "    lowBound += 0.1\n",
    "    highBound += 0.1\n",
    "\n",
    "    ### TODO: COST MATRIX NEEDS TO BE DELAYED BY THE AMOUNT OF TIME IT TAKES TO COMPLETE NEIGHBORS\n",
    "\n",
    "    for r in range(10):\n",
    "\n",
    "        for c in range(10):\n",
    "\n",
    "            nengo.Connection(ensembleMatrix[r][c], costMatrix[r][c], function=calcCost)"
   ]
  },
  {
   "cell_type": "code",
   "execution_count": 76,
   "metadata": {},
   "outputs": [
    {
     "data": {
      "application/vdom.v1+json": {
       "attributes": {},
       "tagName": "div"
      },
      "text/html": [
       "\n",
       "                <script>\n",
       "                    if (Jupyter.version.split(\".\")[0] < 5) {\n",
       "                        var pb = document.getElementById(\"98d4ff24-95b2-4707-88c2-3be5bf8fa396\");\n",
       "                        var text = document.createTextNode(\n",
       "                            \"HMTL progress bar requires Jupyter Notebook >= \" +\n",
       "                            \"5.0 or Jupyter Lab. Alternatively, you can use \" +\n",
       "                            \"TerminalProgressBar().\");\n",
       "                        pb.parentNode.insertBefore(text, pb);\n",
       "                    }\n",
       "                </script>\n",
       "                <div id=\"98d4ff24-95b2-4707-88c2-3be5bf8fa396\" style=\"\n",
       "                    width: 100%;\n",
       "                    border: 1px solid #cfcfcf;\n",
       "                    border-radius: 4px;\n",
       "                    text-align: center;\n",
       "                    position: relative;\">\n",
       "                  <div class=\"pb-text\" style=\"\n",
       "                      position: absolute;\n",
       "                      width: 100%;\">\n",
       "                    0%\n",
       "                  </div>\n",
       "                  <div class=\"pb-fill\" style=\"\n",
       "                      background-color: #bdd2e6;\n",
       "                      width: 0%;\">\n",
       "                    <style type=\"text/css\" scoped=\"scoped\">\n",
       "                        @keyframes pb-fill-anim {\n",
       "                            0% { background-position: 0 0; }\n",
       "                            100% { background-position: 100px 0; }\n",
       "                        }\n",
       "                    </style>\n",
       "                    &nbsp;\n",
       "                  </div>\n",
       "                </div>"
      ],
      "text/plain": [
       "HtmlProgressBar cannot be displayed. Please use the TerminalProgressBar. It can be enabled with `nengo.rc['progress']['progress_bar'] = 'nengo.utils.progress.TerminalProgressBar'`."
      ]
     },
     "metadata": {},
     "output_type": "display_data"
    },
    {
     "data": {
      "application/vdom.v1+json": {
       "attributes": {
        "id": "e951e1bc-d616-48a8-8047-a0f9dca8f381",
        "style": {
         "border": "1px solid #cfcfcf",
         "borderRadius": "4px",
         "boxSizing": "border-box",
         "position": "relative",
         "textAlign": "center",
         "width": "100%"
        }
       },
       "children": [
        {
         "attributes": {
          "class": "pb-text",
          "style": {
           "position": "absolute",
           "width": "100%"
          }
         },
         "children": [
          "Build finished in 0:00:01."
         ],
         "tagName": "div"
        },
        {
         "attributes": {
          "class": "pb-fill",
          "style": {
           "animation": "none",
           "backgroundColor": "#bdd2e6",
           "backgroundImage": "none",
           "backgroundSize": "100px 100%",
           "width": "100%"
          }
         },
         "children": [
          {
           "attributes": {
            "scoped": "scoped",
            "type": "text/css"
           },
           "children": [
            "\n                        @keyframes pb-fill-anim {\n                            0% { background-position: 0 0; }\n                            100% { background-position: 100px 0; }\n                        }}"
           ],
           "tagName": "style"
          },
          " "
         ],
         "tagName": "div"
        }
       ],
       "tagName": "div"
      },
      "text/html": [
       "<script>\n",
       "              (function () {\n",
       "                  var root = document.getElementById('98d4ff24-95b2-4707-88c2-3be5bf8fa396');\n",
       "                  var text = root.getElementsByClassName('pb-text')[0];\n",
       "                  var fill = root.getElementsByClassName('pb-fill')[0];\n",
       "\n",
       "                  text.innerHTML = 'Build finished in 0:00:01.';\n",
       "                  \n",
       "            fill.style.width = '100%';\n",
       "            fill.style.animation = 'pb-fill-anim 2s linear infinite';\n",
       "            fill.style.backgroundSize = '100px 100%';\n",
       "            fill.style.backgroundImage = 'repeating-linear-gradient(' +\n",
       "                '90deg, #bdd2e6, #edf2f8 40%, #bdd2e6 80%, #bdd2e6)';\n",
       "        \n",
       "                  \n",
       "                fill.style.animation = 'none';\n",
       "                fill.style.backgroundImage = 'none';\n",
       "            \n",
       "              })();\n",
       "        </script>"
      ]
     },
     "metadata": {},
     "output_type": "display_data"
    },
    {
     "data": {
      "application/vdom.v1+json": {
       "attributes": {},
       "tagName": "div"
      },
      "text/html": [
       "\n",
       "                <script>\n",
       "                    if (Jupyter.version.split(\".\")[0] < 5) {\n",
       "                        var pb = document.getElementById(\"b1b61e4d-f3d1-480c-afaf-9607140a9ad9\");\n",
       "                        var text = document.createTextNode(\n",
       "                            \"HMTL progress bar requires Jupyter Notebook >= \" +\n",
       "                            \"5.0 or Jupyter Lab. Alternatively, you can use \" +\n",
       "                            \"TerminalProgressBar().\");\n",
       "                        pb.parentNode.insertBefore(text, pb);\n",
       "                    }\n",
       "                </script>\n",
       "                <div id=\"b1b61e4d-f3d1-480c-afaf-9607140a9ad9\" style=\"\n",
       "                    width: 100%;\n",
       "                    border: 1px solid #cfcfcf;\n",
       "                    border-radius: 4px;\n",
       "                    text-align: center;\n",
       "                    position: relative;\">\n",
       "                  <div class=\"pb-text\" style=\"\n",
       "                      position: absolute;\n",
       "                      width: 100%;\">\n",
       "                    0%\n",
       "                  </div>\n",
       "                  <div class=\"pb-fill\" style=\"\n",
       "                      background-color: #bdd2e6;\n",
       "                      width: 0%;\">\n",
       "                    <style type=\"text/css\" scoped=\"scoped\">\n",
       "                        @keyframes pb-fill-anim {\n",
       "                            0% { background-position: 0 0; }\n",
       "                            100% { background-position: 100px 0; }\n",
       "                        }\n",
       "                    </style>\n",
       "                    &nbsp;\n",
       "                  </div>\n",
       "                </div>"
      ],
      "text/plain": [
       "HtmlProgressBar cannot be displayed. Please use the TerminalProgressBar. It can be enabled with `nengo.rc['progress']['progress_bar'] = 'nengo.utils.progress.TerminalProgressBar'`."
      ]
     },
     "metadata": {},
     "output_type": "display_data"
    },
    {
     "data": {
      "application/vdom.v1+json": {
       "attributes": {
        "id": "8f3e6fd9-e8f3-45d6-96b6-e7b7a75291c9",
        "style": {
         "border": "1px solid #cfcfcf",
         "borderRadius": "4px",
         "boxSizing": "border-box",
         "position": "relative",
         "textAlign": "center",
         "width": "100%"
        }
       },
       "children": [
        {
         "attributes": {
          "class": "pb-text",
          "style": {
           "position": "absolute",
           "width": "100%"
          }
         },
         "children": [
          "Simulation finished in 0:00:01."
         ],
         "tagName": "div"
        },
        {
         "attributes": {
          "class": "pb-fill",
          "style": {
           "animation": "none",
           "backgroundColor": "#bdd2e6",
           "backgroundImage": "none",
           "transition": "width 0.1s linear",
           "width": "100%"
          }
         },
         "children": [
          {
           "attributes": {
            "scoped": "scoped",
            "type": "text/css"
           },
           "children": [
            "\n                        @keyframes pb-fill-anim {\n                            0% { background-position: 0 0; }\n                            100% { background-position: 100px 0; }\n                        }}"
           ],
           "tagName": "style"
          },
          " "
         ],
         "tagName": "div"
        }
       ],
       "tagName": "div"
      },
      "text/html": [
       "<script>\n",
       "              (function () {\n",
       "                  var root = document.getElementById('b1b61e4d-f3d1-480c-afaf-9607140a9ad9');\n",
       "                  var text = root.getElementsByClassName('pb-text')[0];\n",
       "                  var fill = root.getElementsByClassName('pb-fill')[0];\n",
       "\n",
       "                  text.innerHTML = 'Simulation finished in 0:00:01.';\n",
       "                  \n",
       "            if (100.0 > 0.) {\n",
       "                fill.style.transition = 'width 0.1s linear';\n",
       "            } else {\n",
       "                fill.style.transition = 'none';\n",
       "            }\n",
       "\n",
       "            fill.style.width = '100.0%';\n",
       "            fill.style.animation = 'none';\n",
       "            fill.style.backgroundImage = 'none'\n",
       "        \n",
       "                  \n",
       "                fill.style.animation = 'none';\n",
       "                fill.style.backgroundImage = 'none';\n",
       "            \n",
       "              })();\n",
       "        </script>"
      ]
     },
     "metadata": {},
     "output_type": "display_data"
    },
    {
     "name": "stdout",
     "output_type": "stream",
     "text": [
      "0.04032382804274631\n"
     ]
    },
    {
     "data": {
      "image/png": "[encoded data removed]",
      "text/plain": [
       "<Figure size 640x480 with 1 Axes>"
      ]
     },
     "metadata": {},
     "output_type": "display_data"
    }
   ],
   "source": [
    "### TESTING\n",
    "\n",
    "n_neurons = 100\n",
    "\n",
    "model = nengo.Network(label=\"Inhibitory Gating\")\n",
    "with model:\n",
    "    A = nengo.Ensemble(n_neurons, dimensions=1)\n",
    "    B = nengo.Ensemble(n_neurons, dimensions=1)\n",
    "    sum = nengo.Ensemble(n_neurons, dimensions=1, radius=2)\n",
    "\n",
    "    lowBound = 0.4\n",
    "    highBound = 0.5\n",
    "\n",
    "    sin = nengo.Node(np.sin)\n",
    "    cos = nengo.Node(np.cos)\n",
    "    inhib = nengo.Node(Piecewise({0: 1, lowBound: 0, highBound: 1}))\n",
    "\n",
    "    nengo.Connection(sin, A)\n",
    "    nengo.Connection(cos, B)\n",
    "    nengo.Connection(inhib, A.neurons, transform=[[-2.5]] * n_neurons)\n",
    "    nengo.Connection(inhib, B.neurons, transform=[[-2.5]] * n_neurons)\n",
    "\n",
    "    nengo.Connection(A, sum)\n",
    "    nengo.Connection(B, sum)\n",
    "\n",
    "    A_probe = nengo.Probe(A, synapse=0.01)\n",
    "    B_probe = nengo.Probe(B, synapse=0.01)\n",
    "    total = nengo.Probe(sum, synapse=0.01)\n",
    "\n",
    "with nengo.Simulator(model) as sim:\n",
    "    sim.run(1)\n",
    "\n",
    "plt.figure()\n",
    "plt.plot(sim.trange(), sim.data[A_probe], label=\"A\")\n",
    "plt.plot(sim.trange(), sim.data[B_probe], label=\"B\")\n",
    "plt.plot(sim.trange(), sim.data[total], label=\"Sum\")\n",
    "# plt.plot(sim.trange(), sim.data[sin_probe], label=\"Sine input\")\n",
    "# plt.plot(sim.trange(), sim.data[inhib_probe], label=\"Inhibitory signal\")\n",
    "plt.legend()\n",
    "\n",
    "ans = np.mean(sim.data[A_probe])\n",
    "print(ans)"
   ]
  }
 ],
 "metadata": {
  "kernelspec": {
   "display_name": "Python 3",
   "language": "python",
   "name": "python3"
  },
  "language_info": {
   "codemirror_mode": {
    "name": "ipython",
    "version": 3
   },
   "file_extension": ".py",
   "mimetype": "text/x-python",
   "name": "python",
   "nbconvert_exporter": "python",
   "pygments_lexer": "ipython3",
   "version": "3.10.13"
  }
 },
 "nbformat": 4,
 "nbformat_minor": 2
}
