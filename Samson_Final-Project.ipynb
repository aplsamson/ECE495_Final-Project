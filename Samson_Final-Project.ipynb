{
 "cells": [
  {
   "cell_type": "code",
   "execution_count": 38,
   "metadata": {},
   "outputs": [],
   "source": [
    "import matplotlib.pyplot as plt\n",
    "import numpy as np\n",
    "from scipy.stats import norm\n",
    "\n",
    "import nengo\n",
    "from nengo.utils.matplotlib import rasterplot\n",
    "from nengo.dists import Uniform\n",
    "from nengo.processes import Piecewise\n",
    "\n",
    "import math"
   ]
  },
  {
   "cell_type": "code",
   "execution_count": null,
   "metadata": {},
   "outputs": [],
   "source": [
    "### CREATE THE SIN AND COS MATRICES\n",
    "\n",
    "# curveA = []\n",
    "# curveB = []\n",
    "\n",
    "# x = 0\n",
    "# for i in range(100):\n",
    "\n",
    "#     curveA.append([round(x, 2), round(math.sin(x), 5)]) ## Curve A (sin)\n",
    "#     curveB.append([round(x, 2), round(math.cos(x), 5)]) ## Curve B (cos)\n",
    "\n",
    "#     x += 0.02"
   ]
  },
  {
   "cell_type": "code",
   "execution_count": 97,
   "metadata": {},
   "outputs": [],
   "source": [
    "model = nengo.Network(label=\"DTW\")\n",
    "\n",
    "\n",
    "### TEST CURVES\n",
    "curveA = [\n",
    "    [0.02, 0.1],\n",
    "    [0.04, 0.3],\n",
    "    [0.06, 0.4],\n",
    "    [0.08, 0.9],\n",
    "    [0.1, 0.8],\n",
    "    [0.12, 0.2],\n",
    "    [0.14, 0.1],\n",
    "    [0.16, 0.5],\n",
    "    [0.18, 0.7],\n",
    "    [0.2, 0.3],\n",
    "]\n",
    "curveB = [\n",
    "    [0.02, 0.1],\n",
    "    [0.04, 0.6],\n",
    "    [0.06, 0.2],\n",
    "    [0.08, 0.3],\n",
    "    [0.1, 0],\n",
    "    [0.12, 0.9],\n",
    "    [0.14, 0.4],\n",
    "    [0.16, 0.3],\n",
    "    [0.18, 0.6],\n",
    "    [0.2, 0.3],\n",
    "]\n",
    "\n",
    "costMatrix = []\n",
    "\n",
    "numPoints = len(curveA)\n",
    "\n",
    "with model:\n",
    "\n",
    "    def absVal(x):\n",
    "        return abs(x)\n",
    "\n",
    "    def neg(x):\n",
    "        return x * -1\n",
    "\n",
    "    for r in range(numPoints):\n",
    "\n",
    "        costMatrix.append([])\n",
    "\n",
    "        for c in range(numPoints):\n",
    "\n",
    "            below = 10\n",
    "            belowLeft = 10\n",
    "            left = 10\n",
    "\n",
    "            input_neuronA = nengo.Ensemble(100, dimensions=1)\n",
    "            input_neuronB = nengo.Ensemble(100, dimensions=1)\n",
    "\n",
    "            absValCalc = nengo.Ensemble(100, dimensions=1)\n",
    "            negative = nengo.Ensemble(100, dimensions=1)\n",
    "            difference = nengo.Ensemble(100, dimensions=1)\n",
    "            DTWsum = nengo.Ensemble(100, dimensions=1)\n",
    "\n",
    "            input_nodeA = nengo.Node(output=curveA[r][1])\n",
    "            input_nodeB = nengo.Node(output=curveB[c][1])\n",
    "\n",
    "            nengo.Connection(\n",
    "                input_nodeA, input_neuronA\n",
    "            )  ## Connect the node to the neuron ensemble\n",
    "            nengo.Connection(input_nodeB, input_neuronB)\n",
    "\n",
    "            nengo.Connection(\n",
    "                input_neuronB, negative, function=neg\n",
    "            )  ## Flip the number negative to subtract\n",
    "\n",
    "            nengo.Connection(negative, difference)  ## Subtraction\n",
    "            nengo.Connection(input_neuronA, difference)  ## Subtraction\n",
    "\n",
    "            nengo.Connection(difference, absValCalc, function=absVal)\n",
    "\n",
    "            ### START CALCULATING MINIMUMS, TODO: IMPLEMENT NEURON DYNAMICS\n",
    "\n",
    "            if r > 0:\n",
    "                below = costMatrix[r - 1][c]\n",
    "\n",
    "            if c > 0:\n",
    "\n",
    "                left = costMatrix[r][c - 1]\n",
    "\n",
    "            if r > 0 & c > 0:\n",
    "\n",
    "                belowLeft = costMatrix[r - 1][c - 1]\n",
    "\n",
    "            addNum = nengo.Node(output=min(below, left, belowLeft))\n",
    "\n",
    "            if addNum == 10:\n",
    "                addNum = 0\n",
    "\n",
    "            nengo.Connection(absValCalc, DTWsum)\n",
    "            nengo.Connection(addNum, DTWsum)\n",
    "\n",
    "            costMatrix[r].append(DTWsum)\n",
    "\n",
    "    ### neuron_probe = nengo.Probe(difference, synapse = 0.1) ## Probe the neuron ensemble"
   ]
  },
  {
   "cell_type": "code",
   "execution_count": 98,
   "metadata": {},
   "outputs": [
    {
     "data": {
      "application/vdom.v1+json": {
       "attributes": {},
       "tagName": "div"
      },
      "text/html": [
       "\n",
       "                <script>\n",
       "                    if (Jupyter.version.split(\".\")[0] < 5) {\n",
       "                        var pb = document.getElementById(\"fa9f86aa-0ead-41fc-8039-86d40e5b13e7\");\n",
       "                        var text = document.createTextNode(\n",
       "                            \"HMTL progress bar requires Jupyter Notebook >= \" +\n",
       "                            \"5.0 or Jupyter Lab. Alternatively, you can use \" +\n",
       "                            \"TerminalProgressBar().\");\n",
       "                        pb.parentNode.insertBefore(text, pb);\n",
       "                    }\n",
       "                </script>\n",
       "                <div id=\"fa9f86aa-0ead-41fc-8039-86d40e5b13e7\" style=\"\n",
       "                    width: 100%;\n",
       "                    border: 1px solid #cfcfcf;\n",
       "                    border-radius: 4px;\n",
       "                    text-align: center;\n",
       "                    position: relative;\">\n",
       "                  <div class=\"pb-text\" style=\"\n",
       "                      position: absolute;\n",
       "                      width: 100%;\">\n",
       "                    0%\n",
       "                  </div>\n",
       "                  <div class=\"pb-fill\" style=\"\n",
       "                      background-color: #bdd2e6;\n",
       "                      width: 0%;\">\n",
       "                    <style type=\"text/css\" scoped=\"scoped\">\n",
       "                        @keyframes pb-fill-anim {\n",
       "                            0% { background-position: 0 0; }\n",
       "                            100% { background-position: 100px 0; }\n",
       "                        }\n",
       "                    </style>\n",
       "                    &nbsp;\n",
       "                  </div>\n",
       "                </div>"
      ],
      "text/plain": [
       "HtmlProgressBar cannot be displayed. Please use the TerminalProgressBar. It can be enabled with `nengo.rc['progress']['progress_bar'] = 'nengo.utils.progress.TerminalProgressBar'`."
      ]
     },
     "metadata": {},
     "output_type": "display_data"
    },
    {
     "data": {
      "application/vdom.v1+json": {
       "attributes": {
        "id": "a5676156-05e3-4a1e-9d8f-74eec13b7dd0",
        "style": {
         "border": "1px solid #cfcfcf",
         "borderRadius": "4px",
         "boxSizing": "border-box",
         "position": "relative",
         "textAlign": "center",
         "width": "100%"
        }
       },
       "children": [
        {
         "attributes": {
          "class": "pb-text",
          "style": {
           "position": "absolute",
           "width": "100%"
          }
         },
         "children": [
          "Build finished in 0:00:01."
         ],
         "tagName": "div"
        },
        {
         "attributes": {
          "class": "pb-fill",
          "style": {
           "animation": "none",
           "backgroundColor": "#bdd2e6",
           "backgroundImage": "none",
           "backgroundSize": "100px 100%",
           "width": "100%"
          }
         },
         "children": [
          {
           "attributes": {
            "scoped": "scoped",
            "type": "text/css"
           },
           "children": [
            "\n                        @keyframes pb-fill-anim {\n                            0% { background-position: 0 0; }\n                            100% { background-position: 100px 0; }\n                        }}"
           ],
           "tagName": "style"
          },
          " "
         ],
         "tagName": "div"
        }
       ],
       "tagName": "div"
      },
      "text/html": [
       "<script>\n",
       "              (function () {\n",
       "                  var root = document.getElementById('fa9f86aa-0ead-41fc-8039-86d40e5b13e7');\n",
       "                  var text = root.getElementsByClassName('pb-text')[0];\n",
       "                  var fill = root.getElementsByClassName('pb-fill')[0];\n",
       "\n",
       "                  text.innerHTML = 'Build finished in 0:00:01.';\n",
       "                  \n",
       "            fill.style.width = '100%';\n",
       "            fill.style.animation = 'pb-fill-anim 2s linear infinite';\n",
       "            fill.style.backgroundSize = '100px 100%';\n",
       "            fill.style.backgroundImage = 'repeating-linear-gradient(' +\n",
       "                '90deg, #bdd2e6, #edf2f8 40%, #bdd2e6 80%, #bdd2e6)';\n",
       "        \n",
       "                  \n",
       "                fill.style.animation = 'none';\n",
       "                fill.style.backgroundImage = 'none';\n",
       "            \n",
       "              })();\n",
       "        </script>"
      ]
     },
     "metadata": {},
     "output_type": "display_data"
    },
    {
     "data": {
      "application/vdom.v1+json": {
       "attributes": {},
       "tagName": "div"
      },
      "text/html": [
       "\n",
       "                <script>\n",
       "                    if (Jupyter.version.split(\".\")[0] < 5) {\n",
       "                        var pb = document.getElementById(\"a8da4427-b206-47a3-a95a-7440e4c62578\");\n",
       "                        var text = document.createTextNode(\n",
       "                            \"HMTL progress bar requires Jupyter Notebook >= \" +\n",
       "                            \"5.0 or Jupyter Lab. Alternatively, you can use \" +\n",
       "                            \"TerminalProgressBar().\");\n",
       "                        pb.parentNode.insertBefore(text, pb);\n",
       "                    }\n",
       "                </script>\n",
       "                <div id=\"a8da4427-b206-47a3-a95a-7440e4c62578\" style=\"\n",
       "                    width: 100%;\n",
       "                    border: 1px solid #cfcfcf;\n",
       "                    border-radius: 4px;\n",
       "                    text-align: center;\n",
       "                    position: relative;\">\n",
       "                  <div class=\"pb-text\" style=\"\n",
       "                      position: absolute;\n",
       "                      width: 100%;\">\n",
       "                    0%\n",
       "                  </div>\n",
       "                  <div class=\"pb-fill\" style=\"\n",
       "                      background-color: #bdd2e6;\n",
       "                      width: 0%;\">\n",
       "                    <style type=\"text/css\" scoped=\"scoped\">\n",
       "                        @keyframes pb-fill-anim {\n",
       "                            0% { background-position: 0 0; }\n",
       "                            100% { background-position: 100px 0; }\n",
       "                        }\n",
       "                    </style>\n",
       "                    &nbsp;\n",
       "                  </div>\n",
       "                </div>"
      ],
      "text/plain": [
       "HtmlProgressBar cannot be displayed. Please use the TerminalProgressBar. It can be enabled with `nengo.rc['progress']['progress_bar'] = 'nengo.utils.progress.TerminalProgressBar'`."
      ]
     },
     "metadata": {},
     "output_type": "display_data"
    },
    {
     "data": {
      "application/vdom.v1+json": {
       "attributes": {
        "id": "66e5bdd0-e269-4d89-ac70-66ea2bc54cda",
        "style": {
         "border": "1px solid #cfcfcf",
         "borderRadius": "4px",
         "boxSizing": "border-box",
         "position": "relative",
         "textAlign": "center",
         "width": "100%"
        }
       },
       "children": [
        {
         "attributes": {
          "class": "pb-text",
          "style": {
           "position": "absolute",
           "width": "100%"
          }
         },
         "children": [
          "Simulation finished in 0:00:01."
         ],
         "tagName": "div"
        },
        {
         "attributes": {
          "class": "pb-fill",
          "style": {
           "animation": "none",
           "backgroundColor": "#bdd2e6",
           "backgroundImage": "none",
           "transition": "width 0.1s linear",
           "width": "100%"
          }
         },
         "children": [
          {
           "attributes": {
            "scoped": "scoped",
            "type": "text/css"
           },
           "children": [
            "\n                        @keyframes pb-fill-anim {\n                            0% { background-position: 0 0; }\n                            100% { background-position: 100px 0; }\n                        }}"
           ],
           "tagName": "style"
          },
          " "
         ],
         "tagName": "div"
        }
       ],
       "tagName": "div"
      },
      "text/html": [
       "<script>\n",
       "              (function () {\n",
       "                  var root = document.getElementById('a8da4427-b206-47a3-a95a-7440e4c62578');\n",
       "                  var text = root.getElementsByClassName('pb-text')[0];\n",
       "                  var fill = root.getElementsByClassName('pb-fill')[0];\n",
       "\n",
       "                  text.innerHTML = 'Simulation finished in 0:00:01.';\n",
       "                  \n",
       "            if (100.0 > 0.) {\n",
       "                fill.style.transition = 'width 0.1s linear';\n",
       "            } else {\n",
       "                fill.style.transition = 'none';\n",
       "            }\n",
       "\n",
       "            fill.style.width = '100.0%';\n",
       "            fill.style.animation = 'none';\n",
       "            fill.style.backgroundImage = 'none'\n",
       "        \n",
       "                  \n",
       "                fill.style.animation = 'none';\n",
       "                fill.style.backgroundImage = 'none';\n",
       "            \n",
       "              })();\n",
       "        </script>"
      ]
     },
     "metadata": {},
     "output_type": "display_data"
    },
    {
     "data": {
      "image/png": "[encoded data removed]",
      "text/plain": [
       "<Figure size 640x480 with 1 Axes>"
      ]
     },
     "metadata": {},
     "output_type": "display_data"
    }
   ],
   "source": [
    "### USED FOR TESTING\n",
    "\n",
    "\n",
    "# with nengo.Simulator(model) as sim:\n",
    "#     # Run it for 5 seconds\n",
    "#     sim.run(1)\n",
    "\n",
    "# # Plot the input signals and decoded ensemble values\n",
    "# # t = sim.trange()\n",
    "# # plt.figure()\n",
    "# # plt.plot(sim.trange(), sim.data[spikes], label=\"Decoded Ensemble A\")\n",
    "# # plt.legend()\n",
    "# # plt.ylim(-1, 1)\n",
    "# # plt.xlabel(\"time [s]\")\n",
    "# # plt.show()\n",
    "\n",
    "# t = sim.trange()\n",
    "# plt.figure()\n",
    "# plt.plot(sim.trange(), sim.data[neuron_probe], label=\"Decoded Ensemble A\")\n",
    "\n",
    "# plt.legend()\n",
    "# plt.ylim(-1, 1)\n",
    "# plt.xlabel(\"time [s]\")\n",
    "# plt.show()"
   ]
  }
 ],
 "metadata": {
  "kernelspec": {
   "display_name": "Python 3",
   "language": "python",
   "name": "python3"
  },
  "language_info": {
   "codemirror_mode": {
    "name": "ipython",
    "version": 3
   },
   "file_extension": ".py",
   "mimetype": "text/x-python",
   "name": "python",
   "nbconvert_exporter": "python",
   "pygments_lexer": "ipython3",
   "version": "3.10.13"
  }
 },
 "nbformat": 4,
 "nbformat_minor": 2
}
