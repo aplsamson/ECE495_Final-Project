{
 "cells": [
  {
   "cell_type": "code",
   "execution_count": 29,
   "metadata": {},
   "outputs": [],
   "source": [
    "import matplotlib.pyplot as plt\n",
    "import numpy as np\n",
    "from scipy.stats import norm\n",
    "\n",
    "import nengo\n",
    "from nengo.utils.matplotlib import rasterplot\n",
    "from nengo.dists import Uniform\n",
    "from nengo.processes import Piecewise\n",
    "\n",
    "import math"
   ]
  },
  {
   "cell_type": "code",
   "execution_count": 30,
   "metadata": {},
   "outputs": [],
   "source": [
    "### CODE TO KEEP\n",
    "### CHECKPOINT 2 PROGRESS\n",
    "\n",
    "ensembleMatrix = []  # array filled with 5-dimensional neuron ensembles\n",
    "costMatrix = []  # array filled with neuron ensembles representing the calculated cost\n",
    "probeMatrix = []  # array filled with probes for each ensemble\n",
    "\n",
    "\n",
    "# Generate Data\n",
    "\n",
    "numSamples = 5\n",
    "\n",
    "curveA = np.array([0.1, 0.6, 0.2, 0.3, 0])\n",
    "curveB = np.array([0.1, 0.3, 0.4, 0.9, 0.8])\n",
    "\n",
    "# Setup a sin and cos input function\n",
    "# Uncomment this to use sin and cos curves instead of the test function\n",
    "\n",
    "for i in range(numSamples):\n",
    "\n",
    "    pass"
   ]
  },
  {
   "cell_type": "code",
   "execution_count": 31,
   "metadata": {},
   "outputs": [],
   "source": [
    "with nengo.Network() as model:\n",
    "\n",
    "    def calcCost(x):\n",
    "\n",
    "        return np.abs(x[0] - x[1]) + np.min(\n",
    "            x[2::]\n",
    "        )  # DTW cost function - adds the minimum neighbor to the difference of the two output values\n",
    "\n",
    "    input1 = nengo.Node(curveA) # first input curve\n",
    "    input2 = nengo.Node(curveB) # second input curve\n",
    "\n",
    "    # initialize matrices\n",
    "\n",
    "    for r in range(numSamples):\n",
    "\n",
    "        costMatrix.append([])\n",
    "        ensembleMatrix.append([])\n",
    "\n",
    "        for c in range(numSamples):\n",
    "\n",
    "            # For each neuron ensemble, x[0] is the current value of curveA, x[1] is the current value of curveB, x[2] is the left neighbor, x[3] is the bottom neighbor, and x[4] is the bottom-left neighbor\n",
    "            ensemble = nengo.Ensemble(300, dimensions=5, radius=3)\n",
    "            ensembleMatrix[r].append(ensemble)\n",
    "\n",
    "            costEns = nengo.Ensemble(300, dimensions=1, radius=3)\n",
    "            costMatrix[r].append(costEns)\n",
    "\n",
    "    # make the connections between the ensembles in \"ensembleMatrix\"\n",
    "\n",
    "    for c in range(numSamples):\n",
    "\n",
    "        for r in range(numSamples):\n",
    "\n",
    "            if r < numSamples - 1:\n",
    "                nengo.Connection(\n",
    "                    (ensembleMatrix[r][c])[0], (ensembleMatrix[r + 1][c])[0]\n",
    "                )  # Make all of the connections for the sin function\n",
    "\n",
    "    for r in range(numSamples):\n",
    "\n",
    "        for c in range(numSamples):\n",
    "\n",
    "            if c < numSamples - 1:\n",
    "                nengo.Connection(\n",
    "                    (ensembleMatrix[r][c])[1], (ensembleMatrix[r][c + 1])[1]\n",
    "                )  # Make all of the connections for the cos function\n",
    "\n",
    "    # make the connections between each ensemble in \"ensembleMatrix\" to the corresponding neighbors in \"costMatrix\"\n",
    "\n",
    "    for r in range(numSamples):\n",
    "\n",
    "        for c in range(numSamples):\n",
    "            if c > 0:  # connect to the left neighbor\n",
    "\n",
    "                nengo.Connection((costMatrix[r][c - 1]), (ensembleMatrix[r][c])[2])\n",
    "\n",
    "            if r > 0:  # connect to the bottom neighbor\n",
    "\n",
    "                nengo.Connection((costMatrix[r - 1][c]), (ensembleMatrix[r][c])[3])\n",
    "\n",
    "            if c > 0 and r > 0:  # connect to the bottom-left neighbor\n",
    "\n",
    "                nengo.Connection((costMatrix[r - 1][c - 1]), (ensembleMatrix[r][c])[4])\n",
    "\n",
    "    # Each ensemble in \"ensembleMatrix\" will need to be connected to the corresponding ensemble in \"costMatrix\"\n",
    "    # in order to perform the correct calculation and build the cost matrix\n",
    "\n",
    "    for r in range(numSamples):\n",
    "\n",
    "        for c in range(numSamples):\n",
    "\n",
    "            nengo.Connection(ensembleMatrix[r][c], costMatrix[r][c], function=calcCost)\n",
    "\n",
    "    # Connect each input node to the corresponding start ensemble for every row and column\n",
    "\n",
    "    for r in range(numSamples):\n",
    "        nengo.Connection(input1[r], (ensembleMatrix[r][0])[0])\n",
    "\n",
    "    for c in range(numSamples):\n",
    "        nengo.Connection(input2[c], (ensembleMatrix[0][c])[1])"
   ]
  },
  {
   "cell_type": "code",
   "execution_count": 32,
   "metadata": {},
   "outputs": [],
   "source": [
    "with model:\n",
    "\n",
    "    # Fill the probe matrix\n",
    "\n",
    "    for r in range(numSamples):\n",
    "\n",
    "        for c in range(numSamples):\n",
    "\n",
    "            probe = nengo.Probe(costMatrix[c][r], synapse=0.1)\n",
    "            probeMatrix.append(probe)"
   ]
  },
  {
   "cell_type": "code",
   "execution_count": 33,
   "metadata": {},
   "outputs": [
    {
     "data": {
      "application/vdom.v1+json": {
       "attributes": {},
       "tagName": "div"
      },
      "text/html": [
       "\n",
       "                <script>\n",
       "                    if (Jupyter.version.split(\".\")[0] < 5) {\n",
       "                        var pb = document.getElementById(\"b729b56b-6457-4abb-98c0-19a52ba4e50f\");\n",
       "                        var text = document.createTextNode(\n",
       "                            \"HMTL progress bar requires Jupyter Notebook >= \" +\n",
       "                            \"5.0 or Jupyter Lab. Alternatively, you can use \" +\n",
       "                            \"TerminalProgressBar().\");\n",
       "                        pb.parentNode.insertBefore(text, pb);\n",
       "                    }\n",
       "                </script>\n",
       "                <div id=\"b729b56b-6457-4abb-98c0-19a52ba4e50f\" style=\"\n",
       "                    width: 100%;\n",
       "                    border: 1px solid #cfcfcf;\n",
       "                    border-radius: 4px;\n",
       "                    text-align: center;\n",
       "                    position: relative;\">\n",
       "                  <div class=\"pb-text\" style=\"\n",
       "                      position: absolute;\n",
       "                      width: 100%;\">\n",
       "                    0%\n",
       "                  </div>\n",
       "                  <div class=\"pb-fill\" style=\"\n",
       "                      background-color: #bdd2e6;\n",
       "                      width: 0%;\">\n",
       "                    <style type=\"text/css\" scoped=\"scoped\">\n",
       "                        @keyframes pb-fill-anim {\n",
       "                            0% { background-position: 0 0; }\n",
       "                            100% { background-position: 100px 0; }\n",
       "                        }\n",
       "                    </style>\n",
       "                    &nbsp;\n",
       "                  </div>\n",
       "                </div>"
      ],
      "text/plain": [
       "HtmlProgressBar cannot be displayed. Please use the TerminalProgressBar. It can be enabled with `nengo.rc['progress']['progress_bar'] = 'nengo.utils.progress.TerminalProgressBar'`."
      ]
     },
     "metadata": {},
     "output_type": "display_data"
    },
    {
     "data": {
      "application/vdom.v1+json": {
       "attributes": {
        "id": "875e1b09-6670-4e64-9888-2573f7c675dc",
        "style": {
         "border": "1px solid #cfcfcf",
         "borderRadius": "4px",
         "boxSizing": "border-box",
         "position": "relative",
         "textAlign": "center",
         "width": "100%"
        }
       },
       "children": [
        {
         "attributes": {
          "class": "pb-text",
          "style": {
           "position": "absolute",
           "width": "100%"
          }
         },
         "children": [
          "Build finished in 0:00:07."
         ],
         "tagName": "div"
        },
        {
         "attributes": {
          "class": "pb-fill",
          "style": {
           "animation": "none",
           "backgroundColor": "#bdd2e6",
           "backgroundImage": "none",
           "backgroundSize": "100px 100%",
           "width": "100%"
          }
         },
         "children": [
          {
           "attributes": {
            "scoped": "scoped",
            "type": "text/css"
           },
           "children": [
            "\n                        @keyframes pb-fill-anim {\n                            0% { background-position: 0 0; }\n                            100% { background-position: 100px 0; }\n                        }}"
           ],
           "tagName": "style"
          },
          " "
         ],
         "tagName": "div"
        }
       ],
       "tagName": "div"
      },
      "text/html": [
       "<script>\n",
       "              (function () {\n",
       "                  var root = document.getElementById('b729b56b-6457-4abb-98c0-19a52ba4e50f');\n",
       "                  var text = root.getElementsByClassName('pb-text')[0];\n",
       "                  var fill = root.getElementsByClassName('pb-fill')[0];\n",
       "\n",
       "                  text.innerHTML = 'Build finished in 0:00:07.';\n",
       "                  \n",
       "            fill.style.width = '100%';\n",
       "            fill.style.animation = 'pb-fill-anim 2s linear infinite';\n",
       "            fill.style.backgroundSize = '100px 100%';\n",
       "            fill.style.backgroundImage = 'repeating-linear-gradient(' +\n",
       "                '90deg, #bdd2e6, #edf2f8 40%, #bdd2e6 80%, #bdd2e6)';\n",
       "        \n",
       "                  \n",
       "                fill.style.animation = 'none';\n",
       "                fill.style.backgroundImage = 'none';\n",
       "            \n",
       "              })();\n",
       "        </script>"
      ]
     },
     "metadata": {},
     "output_type": "display_data"
    },
    {
     "data": {
      "application/vdom.v1+json": {
       "attributes": {},
       "tagName": "div"
      },
      "text/html": [
       "\n",
       "                <script>\n",
       "                    if (Jupyter.version.split(\".\")[0] < 5) {\n",
       "                        var pb = document.getElementById(\"6cc429e0-342c-4085-ae16-0e4b94305f11\");\n",
       "                        var text = document.createTextNode(\n",
       "                            \"HMTL progress bar requires Jupyter Notebook >= \" +\n",
       "                            \"5.0 or Jupyter Lab. Alternatively, you can use \" +\n",
       "                            \"TerminalProgressBar().\");\n",
       "                        pb.parentNode.insertBefore(text, pb);\n",
       "                    }\n",
       "                </script>\n",
       "                <div id=\"6cc429e0-342c-4085-ae16-0e4b94305f11\" style=\"\n",
       "                    width: 100%;\n",
       "                    border: 1px solid #cfcfcf;\n",
       "                    border-radius: 4px;\n",
       "                    text-align: center;\n",
       "                    position: relative;\">\n",
       "                  <div class=\"pb-text\" style=\"\n",
       "                      position: absolute;\n",
       "                      width: 100%;\">\n",
       "                    0%\n",
       "                  </div>\n",
       "                  <div class=\"pb-fill\" style=\"\n",
       "                      background-color: #bdd2e6;\n",
       "                      width: 0%;\">\n",
       "                    <style type=\"text/css\" scoped=\"scoped\">\n",
       "                        @keyframes pb-fill-anim {\n",
       "                            0% { background-position: 0 0; }\n",
       "                            100% { background-position: 100px 0; }\n",
       "                        }\n",
       "                    </style>\n",
       "                    &nbsp;\n",
       "                  </div>\n",
       "                </div>"
      ],
      "text/plain": [
       "HtmlProgressBar cannot be displayed. Please use the TerminalProgressBar. It can be enabled with `nengo.rc['progress']['progress_bar'] = 'nengo.utils.progress.TerminalProgressBar'`."
      ]
     },
     "metadata": {},
     "output_type": "display_data"
    },
    {
     "data": {
      "application/vdom.v1+json": {
       "attributes": {
        "id": "909cf020-bb29-49b2-875d-7100a3a15201",
        "style": {
         "border": "1px solid #cfcfcf",
         "borderRadius": "4px",
         "boxSizing": "border-box",
         "position": "relative",
         "textAlign": "center",
         "width": "100%"
        }
       },
       "children": [
        {
         "attributes": {
          "class": "pb-text",
          "style": {
           "position": "absolute",
           "width": "100%"
          }
         },
         "children": [
          "Simulation finished in 0:00:12."
         ],
         "tagName": "div"
        },
        {
         "attributes": {
          "class": "pb-fill",
          "style": {
           "animation": "none",
           "backgroundColor": "#bdd2e6",
           "backgroundImage": "none",
           "transition": "width 0.1s linear",
           "width": "100%"
          }
         },
         "children": [
          {
           "attributes": {
            "scoped": "scoped",
            "type": "text/css"
           },
           "children": [
            "\n                        @keyframes pb-fill-anim {\n                            0% { background-position: 0 0; }\n                            100% { background-position: 100px 0; }\n                        }}"
           ],
           "tagName": "style"
          },
          " "
         ],
         "tagName": "div"
        }
       ],
       "tagName": "div"
      },
      "text/html": [
       "<script>\n",
       "              (function () {\n",
       "                  var root = document.getElementById('6cc429e0-342c-4085-ae16-0e4b94305f11');\n",
       "                  var text = root.getElementsByClassName('pb-text')[0];\n",
       "                  var fill = root.getElementsByClassName('pb-fill')[0];\n",
       "\n",
       "                  text.innerHTML = 'Simulation finished in 0:00:12.';\n",
       "                  \n",
       "            if (100.0 > 0.) {\n",
       "                fill.style.transition = 'width 0.1s linear';\n",
       "            } else {\n",
       "                fill.style.transition = 'none';\n",
       "            }\n",
       "\n",
       "            fill.style.width = '100.0%';\n",
       "            fill.style.animation = 'none';\n",
       "            fill.style.backgroundImage = 'none'\n",
       "        \n",
       "                  \n",
       "                fill.style.animation = 'none';\n",
       "                fill.style.backgroundImage = 'none';\n",
       "            \n",
       "              })();\n",
       "        </script>"
      ]
     },
     "metadata": {},
     "output_type": "display_data"
    },
    {
     "data": {
      "text/plain": [
       "<matplotlib.legend.Legend at 0x26d51a8e320>"
      ]
     },
     "execution_count": 33,
     "metadata": {},
     "output_type": "execute_result"
    },
    {
     "data": {
      "image/png": "[encoded data removed]",
      "text/plain": [
       "<Figure size 640x480 with 1 Axes>"
      ]
     },
     "metadata": {},
     "output_type": "display_data"
    }
   ],
   "source": [
    "with nengo.Simulator(model) as sim:\n",
    "    sim.run(5)\n",
    "\n",
    "plt.figure()\n",
    "\n",
    "plt.plot(sim.trange(), sim.data[probeMatrix[1]], label=\"1,0\")\n",
    "plt.plot(sim.trange(), sim.data[probeMatrix[6]], label=\"2,0\")\n",
    "plt.plot(sim.trange(), sim.data[probeMatrix[11]], label=\"3,0\")\n",
    "plt.plot(sim.trange(), sim.data[probeMatrix[16]], label=\"4,0\")\n",
    "plt.plot(sim.trange(), sim.data[probeMatrix[21]], label=\"5,0\")\n",
    "plt.legend()"
   ]
  },
  {
   "cell_type": "code",
   "execution_count": 34,
   "metadata": {},
   "outputs": [
    {
     "name": "stdout",
     "output_type": "stream",
     "text": [
      "21.0  13.4  11.0  14.1  11.2  \n",
      "\n",
      "12.5  5.7  8.5  8.1  8.7  \n",
      "\n",
      "5.8  6.5  7.9  6.1  9.3  \n",
      "\n",
      "-0.1  1.1  3.6  4.5  9.3  \n",
      "\n",
      "-1.4  5.4  5.2  6.0  10.3  \n",
      "\n"
     ]
    }
   ],
   "source": [
    "# Creating an off-chip cost matrix\n",
    "\n",
    "for i in range(len(probeMatrix) - 5, -1, -5):\n",
    "\n",
    "    for x in range(5):\n",
    "\n",
    "        print(round(np.mean(sim.data[probeMatrix[i + x]] * 10), 1), end=\"  \")\n",
    "\n",
    "    print(\"\\n\")"
   ]
  },
  {
   "cell_type": "code",
   "execution_count": 35,
   "metadata": {},
   "outputs": [],
   "source": [
    "### CHECKPOINT 1 PROGRESS\n",
    "\n",
    "# model = nengo.Network(label=\"DTW\")\n",
    "\n",
    "\n",
    "# ### TEST CURVES\n",
    "# curveA = [\n",
    "#     [0.02, 0.1],\n",
    "#     [0.04, 0.3],\n",
    "#     [0.06, 0.4],\n",
    "#     [0.08, 0.9],\n",
    "#     [0.1, 0.8],\n",
    "#     [0.12, 0.2],\n",
    "#     [0.14, 0.1],\n",
    "#     [0.16, 0.5],\n",
    "#     [0.18, 0.7],\n",
    "#     [0.2, 0.3],\n",
    "# ]\n",
    "# curveB = [\n",
    "#     [0.02, 0.1],\n",
    "#     [0.04, 0.6],\n",
    "#     [0.06, 0.2],\n",
    "#     [0.08, 0.3],\n",
    "#     [0.1, 0],\n",
    "#     [0.12, 0.9],\n",
    "#     [0.14, 0.4],\n",
    "#     [0.16, 0.3],\n",
    "#     [0.18, 0.6],\n",
    "#     [0.2, 0.3],\n",
    "# ]\n",
    "\n",
    "# costMatrix = []\n",
    "\n",
    "# numPoints = len(curveA)\n",
    "\n",
    "# with model:\n",
    "\n",
    "#     def absVal(x):\n",
    "#         return abs(x)\n",
    "\n",
    "#     def neg(x):\n",
    "#         return x * -1\n",
    "\n",
    "#     def lessThan(x):\n",
    "#         if x[0]<x[1]:\n",
    "#             return x[0]\n",
    "#         else:\n",
    "#             return x[1]\n",
    "\n",
    "#     def greaterThan(x):\n",
    "#         if x[0]>x[1]:\n",
    "#             return x[0]\n",
    "#         else:\n",
    "#             return x[1]\n",
    "\n",
    "#     for r in range(numPoints):\n",
    "\n",
    "#         costMatrix.append([])\n",
    "\n",
    "#         for c in range(numPoints):\n",
    "\n",
    "#             below = 10\n",
    "#             belowLeft = 10\n",
    "#             left = 10\n",
    "\n",
    "#             input_neuronA = nengo.Ensemble(100, dimensions=1)\n",
    "#             input_neuronB = nengo.Ensemble(100, dimensions=1)\n",
    "\n",
    "#             absValCalc = nengo.Ensemble(100, dimensions=1)\n",
    "#             negative = nengo.Ensemble(100, dimensions=1)\n",
    "#             difference = nengo.Ensemble(100, dimensions=1)\n",
    "#             addNum = nengo.Ensemble(100, dimensions = 1)\n",
    "#             DTWsum = nengo.Ensemble(100, dimensions=1)\n",
    "\n",
    "#             input_nodeA = nengo.Node(output=curveA[r][1])\n",
    "#             input_nodeB = nengo.Node(output=curveB[c][1])\n",
    "\n",
    "#             nengo.Connection(\n",
    "#                 input_nodeA, input_neuronA\n",
    "#             )  ## Connect the node to the neuron ensemble\n",
    "#             nengo.Connection(input_nodeB, input_neuronB)\n",
    "\n",
    "#             nengo.Connection(\n",
    "#                 input_neuronB, negative, function=neg\n",
    "#             )  ## Flip the number negative to subtract\n",
    "\n",
    "#             nengo.Connection(negative, difference)  ## Subtraction\n",
    "#             nengo.Connection(input_neuronA, difference)  ## Subtraction\n",
    "\n",
    "#             nengo.Connection(difference, absValCalc, function=absVal)\n",
    "\n",
    "#             ### START CALCULATING MINIMUMS, TODO: IMPLEMENT NEURON DYNAMICS\n",
    "\n",
    "#             if r > 0: ## check below\n",
    "#                 below = costMatrix[r - 1][c]\n",
    "#                 isBelow = 1\n",
    "\n",
    "#             if c > 0: ## check left\n",
    "\n",
    "#                 left = costMatrix[r][c - 1]\n",
    "#                 isLeft = 1\n",
    "\n",
    "#             if r > 0 & c > 0: ## check left and below\n",
    "\n",
    "#                 belowLeft = costMatrix[r - 1][c - 1]\n",
    "#                 isBelowLeft = 1\n",
    "\n",
    "\n",
    "#             if (isBelow | isLeft | isBelowLeft):\n",
    "\n",
    "\n",
    "#                 ### ONE AT A TIME\n",
    "#                 if (isBelow == 1 & isLeft == 0 and isBelowLeft == 0):\n",
    "\n",
    "#                     nengo.Connection(isBelow, addNum)\n",
    "\n",
    "#                 elif (isBelow == 0 & isLeft == 1 and isBelowLeft == 0):\n",
    "\n",
    "#                     nengo.Connection(isLeft, addNum)\n",
    "\n",
    "#                 elif (isBelow == 0 & isLeft == 0 and isBelowLeft == 1):\n",
    "\n",
    "#                     nengo.Connection(isBelowLeft, addNum)\n",
    "\n",
    "\n",
    "#                 ### COMBOS OF TWO\n",
    "\n",
    "\n",
    "#                 ### ALL THREE\n",
    "\n",
    "\n",
    "#             #####\n",
    "\n",
    "#             nengo.Connection(absValCalc, DTWsum)\n",
    "#             nengo.Connection(addNum, DTWsum)\n",
    "\n",
    "#             costMatrix[r].append(DTWsum)\n",
    "\n",
    "#     ### neuron_probe = nengo.Probe(difference, synapse = 0.1) ## Probe the neuron ensemble"
   ]
  },
  {
   "cell_type": "code",
   "execution_count": null,
   "metadata": {},
   "outputs": [],
   "source": []
  }
 ],
 "metadata": {
  "kernelspec": {
   "display_name": "Python 3",
   "language": "python",
   "name": "python3"
  },
  "language_info": {
   "codemirror_mode": {
    "name": "ipython",
    "version": 3
   },
   "file_extension": ".py",
   "mimetype": "text/x-python",
   "name": "python",
   "nbconvert_exporter": "python",
   "pygments_lexer": "ipython3",
   "version": "3.10.13"
  }
 },
 "nbformat": 4,
 "nbformat_minor": 2
}
